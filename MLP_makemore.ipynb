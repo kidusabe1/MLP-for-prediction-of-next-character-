{
 "cells": [
  {
   "cell_type": "code",
   "execution_count": 21,
   "metadata": {},
   "outputs": [],
   "source": [
    "import torch\n",
    "import torch.nn.functional as F\n",
    "import matplotlib.pyplot as plt\n",
    "%matplotlib inline\n"
   ]
  },
  {
   "cell_type": "code",
   "execution_count": 22,
   "metadata": {},
   "outputs": [
    {
     "data": {
      "text/plain": [
       "['emma', 'olivia', 'ava', 'isabella', 'sophia', 'charlotte', 'mia', 'amelia']"
      ]
     },
     "execution_count": 22,
     "metadata": {},
     "output_type": "execute_result"
    }
   ],
   "source": [
    "# read in all the words\n",
    "words = open('names.txt','r').read().splitlines()\n",
    "words[:8]"
   ]
  },
  {
   "cell_type": "code",
   "execution_count": 23,
   "metadata": {},
   "outputs": [
    {
     "name": "stdout",
     "output_type": "stream",
     "text": [
      "{1: 'a', 2: 'b', 3: 'c', 4: 'd', 5: 'e', 6: 'f', 7: 'g', 8: 'h', 9: 'i', 10: 'j', 11: 'k', 12: 'l', 13: 'm', 14: 'n', 15: 'o', 16: 'p', 17: 'q', 18: 'r', 19: 's', 20: 't', 21: 'u', 22: 'v', 23: 'w', 24: 'x', 25: 'y', 26: 'z', 0: '.'}\n"
     ]
    }
   ],
   "source": [
    "# build the vocabulary of characters and mappings to/from integers\n",
    "chars = sorted(list(set(''.join(words))))\n",
    "stoi = {s:i+1 for i,s in enumerate(chars)}\n",
    "stoi['.'] = 0\n",
    "itos = {i:s for s,i in stoi.items()}\n",
    "print(itos)\n"
   ]
  },
  {
   "cell_type": "code",
   "execution_count": 24,
   "metadata": {},
   "outputs": [
    {
     "name": "stdout",
     "output_type": "stream",
     "text": [
      "torch.Size([182625, 3]) torch.Size([182625])\n",
      "torch.Size([22655, 3]) torch.Size([22655])\n",
      "torch.Size([22866, 3]) torch.Size([22866])\n"
     ]
    }
   ],
   "source": [
    "# build the dataset\n",
    "# block size is the context length: how many chars do we take to predict the next one\n",
    "def build_dataset(words):\n",
    "    block_size = 3 \n",
    "    x, y =[],[]\n",
    "    for w in words:\n",
    "        #print(w)\n",
    "        context = [0] * block_size # initializing the block with ... padding\n",
    "        for ch in w + '.': #to mark the ending of a word\n",
    "            ix = stoi[ch]\n",
    "            x.append(context) # this is where it is intially padded with dots....\n",
    "            y.append(ix) # index of the next character\n",
    "            #print(''.join(itos[i] for i in context),'---->',itos[ix])\n",
    "            context = context[1:] + [ix] #crop and append the character for next iteration(decrease the padded dots)\n",
    "        \n",
    "    x = torch.tensor(x)\n",
    "    y = torch.tensor(y)\n",
    "    print(x.shape,y.shape)\n",
    "    return x,y\n",
    "#print(x[1,:])\n",
    "#print(y[1])\n",
    "#from the above print example you can see that X is a possible context\n",
    "#before the next character which is y\n",
    "import random\n",
    "random.seed(42)\n",
    "random.shuffle(words)\n",
    "n1 = int(0.8*len(words))\n",
    "n2 = int(0.9*len(words))\n",
    "\n",
    "xtr, ytr = build_dataset(words[:n1])\n",
    "xdev, ydev = build_dataset(words[n1:n2])\n",
    "xte, yte = build_dataset(words[n2:])\n",
    "block_size = 3"
   ]
  },
  {
   "cell_type": "code",
   "execution_count": 44,
   "metadata": {},
   "outputs": [],
   "source": [
    "n_emb = 10 # the dimensionality of the character embedding vectors\n",
    "n_hidden = 200 # the numbe rof neurons in the hidden layer of the MLP\n",
    "\n",
    "g = torch.Generator().manual_seed(2147483647)\n",
    "c = torch.rand((27,n_emb),generator=g)\n",
    "# hidden layer\n",
    "w1 = torch.randn((n_emb*block_size,n_hidden),generator=g) * 0.2\n",
    "b1 = torch.randn(n_hidden,generator=g) * 0.01\n",
    "# we are multipliying w1 abd b1 by small numbers so that we are able to avoid the saturation of the tanh(hidden layer)\n",
    "# if the values of b1 and w1 are too high, the value of hpreact will be too much\n",
    "# therefore most of the values of coming out of h will be close to 1 and -1 \n",
    "# which means, (accroding to the formula and graph of tanh), there will not be any learning \n",
    "# because it is in the flat zone of tanh and the gradient is close to 0.\n",
    "# final layer\n",
    "w2 = torch.randn((n_hidden,27),generator=g) * 0.01\n",
    "b2 = torch.randn(27,generator=g) * 0\n",
    "\n",
    "# notice how we are multipliying w2 by 0.01 and b2 by 0\n",
    "# it is because we want to initialize the model logits with values close to 0\n",
    "# which will give us a first loss which makes much more sense and close to the real loss\n",
    "# we want the count(logits) to be uniform intially because\n",
    "# we assume all letters have same probability of occuring in the first run\n",
    "\n",
    "parameters = [c, w1, b1, w2, b2]\n",
    "for p in parameters:\n",
    "    p.requires_grad =  True"
   ]
  },
  {
   "cell_type": "code",
   "execution_count": 45,
   "metadata": {},
   "outputs": [
    {
     "data": {
      "text/plain": [
       "11897"
      ]
     },
     "execution_count": 45,
     "metadata": {},
     "output_type": "execute_result"
    }
   ],
   "source": [
    "sum(p.nelement() for p in parameters)  # number of parameters in total"
   ]
  },
  {
   "cell_type": "code",
   "execution_count": 46,
   "metadata": {},
   "outputs": [],
   "source": [
    "lre = torch.linspace(-3,0,1000)\n",
    "lrs = 10**lre\n",
    "lossi = []\n",
    "lri = []\n",
    "stepi = []"
   ]
  },
  {
   "cell_type": "code",
   "execution_count": 47,
   "metadata": {},
   "outputs": [
    {
     "name": "stdout",
     "output_type": "stream",
     "text": [
      "      0/ 200000:3.2752\n",
      "  10000/ 200000:1.8653\n",
      "  20000/ 200000:1.7688\n",
      "  30000/ 200000:2.2285\n",
      "  40000/ 200000:2.1735\n",
      "  50000/ 200000:2.4853\n",
      "  60000/ 200000:1.8299\n",
      "  70000/ 200000:1.9183\n",
      "  80000/ 200000:2.3194\n",
      "  90000/ 200000:2.3116\n",
      " 100000/ 200000:2.1720\n",
      " 110000/ 200000:2.3900\n",
      " 120000/ 200000:1.7580\n",
      " 130000/ 200000:2.1150\n",
      " 140000/ 200000:2.0404\n",
      " 150000/ 200000:2.2686\n",
      " 160000/ 200000:2.3037\n",
      " 170000/ 200000:1.5934\n",
      " 180000/ 200000:1.7350\n",
      " 190000/ 200000:2.1571\n"
     ]
    }
   ],
   "source": [
    "# view() is used to reshape (32,3,2) in to (32,6) for matrix multiplication purpose\n",
    "max_steps= 200000\n",
    "batch_size = 32\n",
    "for i in range(max_steps):\n",
    "    # implementing mini batches so that we dont take much time \n",
    "    # forwarding and backwarding on the whole dataset at once\n",
    "    # mini batch construct\n",
    "    ix = torch.randint(0, xtr.shape[0],(batch_size,),generator=g)    \n",
    "    xb, yb = xtr[ix], ytr[ix] # batch x,y\n",
    "\n",
    "    ######### Forward pass #########\n",
    "    emb = c[xb]  #(32,3,2) embedding the characters into vectors\n",
    "    emb_cat = emb.view(emb.shape[0],-1) # concatenate the vectors\n",
    "    hpreact = emb_cat @ w1 + b1 # hidden layer preactivation\n",
    "    h = torch.tanh(hpreact) # hidden layer\n",
    "    logits = h @ w2 + b2  # (32,27), output layer\n",
    "    # counts = logits.exp()\n",
    "    # prob = counts / counts.sum(1, keepdims=True)\n",
    "    # loss = -prob[torch.arange(228146),y].log().mean()\n",
    "    batch_loss= F.cross_entropy(logits, yb)\n",
    "    #So, in summary, you can interpret the .log() \n",
    "    # computation as undoing the exponential \n",
    "    # transformation performed earlier, allowing for\n",
    "    #  a linear scale representation of the probabilities\n",
    "    #  and facilitating the calculation of the \n",
    "    # cross-entropy loss.\n",
    "\n",
    "\n",
    "    ####### backward pass #########\n",
    "    for p in parameters:\n",
    "        p.grad = None\n",
    "    batch_loss.backward()\n",
    "\n",
    "    ######## update       ##########\n",
    "    lr = 0.1 if i<100000 else 0.001\n",
    "    for p in parameters:\n",
    "        p.data += -lr * p.grad\n",
    "    # track status of learning rate\n",
    "    #lri.append(lrs[i])\n",
    "    if i % 10000 == 0:\n",
    "        print(f'{i:7d}/{max_steps:7d}:{batch_loss.item():.4f}')\n",
    "    lossi.append(batch_loss.log10().item())\n",
    "    stepi.append(i)\n"
   ]
  },
  {
   "cell_type": "code",
   "execution_count": 60,
   "metadata": {},
   "outputs": [
    {
     "data": {
      "image/png": "[encoded data removed]",
      "text/plain": [
       "<Figure size 640x480 with 1 Axes>"
      ]
     },
     "metadata": {},
     "output_type": "display_data"
    }
   ],
   "source": [
    "plt.hist(h.view(-1).tolist(),50);"
   ]
  },
  {
   "cell_type": "code",
   "execution_count": 62,
   "metadata": {},
   "outputs": [
    {
     "data": {
      "image/png": "[encoded data removed]",
      "text/plain": [
       "<Figure size 640x480 with 1 Axes>"
      ]
     },
     "metadata": {},
     "output_type": "display_data"
    }
   ],
   "source": [
    "plt.hist(hpreact.view(-1).tolist(),50);"
   ]
  },
  {
   "cell_type": "code",
   "execution_count": 48,
   "metadata": {},
   "outputs": [
    {
     "data": {
      "text/plain": [
       "[<matplotlib.lines.Line2D at 0x207df3dda50>]"
      ]
     },
     "execution_count": 48,
     "metadata": {},
     "output_type": "execute_result"
    },
    {
     "data": {
      "image/png": "[encoded data removed]",
      "text/plain": [
       "<Figure size 640x480 with 1 Axes>"
      ]
     },
     "metadata": {},
     "output_type": "display_data"
    }
   ],
   "source": [
    "plt.plot(stepi,lossi)"
   ]
  },
  {
   "cell_type": "code",
   "execution_count": 49,
   "metadata": {},
   "outputs": [
    {
     "name": "stdout",
     "output_type": "stream",
     "text": [
      "train 2.0717790126800537\n",
      "val 2.120209217071533\n"
     ]
    }
   ],
   "source": [
    "@torch.no_grad() # this decorator disables gradient tracking\n",
    "def split_loss(split):\n",
    "    x,y = {\n",
    "        'train': (xtr,ytr),\n",
    "        'val': (xdev,ydev),\n",
    "        'test': (xte,yte)\n",
    "    }[split]\n",
    "    emb = c[x] # (N,block_size, n_embd)\n",
    "    embcat = emb.view(emb.shape[0],-1)\n",
    "    h = torch.tanh(embcat @ w1 + b1)  # (N,n_hidden)\n",
    "    logits = h @ w2 + b2 #(N,vocab_size)\n",
    "    loss = F.cross_entropy(logits, y)\n",
    "    print(split, loss.item())\n",
    "\n",
    "split_loss('train')\n",
    "split_loss('val')"
   ]
  },
  {
   "cell_type": "code",
   "execution_count": 31,
   "metadata": {},
   "outputs": [],
   "source": [
    "# training split/ dev or validation split/ test split\n",
    "# 80%, 10%, 10%\n",
    "# training data is used to train the parameters\n",
    "# validation split is used to train the hyperparameters\n",
    "#    hyperparameters are like size of the embeddings, lr, number of neurons\n",
    "# test split is used to test the model"
   ]
  },
  {
   "cell_type": "code",
   "execution_count": 32,
   "metadata": {},
   "outputs": [
    {
     "data": {
      "image/png": "[encoded data removed]",
      "text/plain": [
       "<Figure size 800x800 with 1 Axes>"
      ]
     },
     "metadata": {},
     "output_type": "display_data"
    }
   ],
   "source": [
    "# visualizing the character embedding size\n",
    "plt.figure(figsize=(8,8))\n",
    "plt.scatter(c[:,0].data, c[:,1].data, s = 200)\n",
    "for i in range(c.shape[0]):\n",
    "    plt.text(c[i,0].item(), c[i,1].item(), itos[i], ha='center', va='center',color='white')\n",
    "plt.grid('minor')"
   ]
  },
  {
   "cell_type": "code",
   "execution_count": 33,
   "metadata": {},
   "outputs": [
    {
     "name": "stdout",
     "output_type": "stream",
     "text": [
      "m\n",
      "mo\n",
      "mor\n",
      "mora\n",
      "mora.\n",
      "\n",
      "k\n",
      "ka\n",
      "kay\n",
      "kaya\n",
      "kayah\n",
      "kayah.\n",
      "\n",
      "s\n",
      "se\n",
      "see\n",
      "seel\n",
      "seel.\n",
      "\n",
      "n\n",
      "ni\n",
      "nih\n",
      "niha\n",
      "nihah\n",
      "nihah.\n",
      "\n",
      "l\n",
      "lo\n",
      "lor\n",
      "lore\n",
      "loret\n",
      "loreth\n",
      "lorethr\n",
      "lorethru\n",
      "lorethruc\n",
      "lorethruce\n",
      "lorethrucen\n",
      "lorethrucend\n",
      "lorethrucendr\n",
      "lorethrucendrl\n",
      "lorethrucendrle\n",
      "lorethrucendrleg\n",
      "lorethrucendrleg.\n",
      "\n",
      "a\n",
      "ad\n",
      "ade\n",
      "adel\n",
      "adely\n",
      "adelyn\n",
      "adelynn\n",
      "adelynne\n",
      "adelynnel\n",
      "adelynneli\n",
      "adelynnelin\n",
      "adelynnelin.\n",
      "\n",
      "s\n",
      "sh\n",
      "shy\n",
      "shy.\n",
      "\n",
      "j\n",
      "je\n",
      "jen\n",
      "jenl\n",
      "jenle\n",
      "jenlei\n",
      "jenleig\n",
      "jenleigh\n",
      "jenleigh.\n",
      "\n",
      "e\n",
      "es\n",
      "esn\n",
      "esna\n",
      "esna.\n",
      "\n",
      "a\n",
      "ar\n",
      "arl\n",
      "arle\n",
      "arlei\n",
      "arleit\n",
      "arleite\n",
      "arleitel\n",
      "arleitelo\n",
      "arleiteloh\n",
      "arleitelohe\n",
      "arleitelohek\n",
      "arleiteloheka\n",
      "arleiteloheka.\n",
      "\n",
      "c\n",
      "ca\n",
      "cay\n",
      "cays\n",
      "caysh\n",
      "caysha\n",
      "cayshab\n",
      "cayshabe\n",
      "cayshaber\n",
      "cayshaberg\n",
      "cayshaberga\n",
      "cayshabergah\n",
      "cayshabergahi\n",
      "cayshabergahir\n",
      "cayshabergahiri\n",
      "cayshabergahirie\n",
      "cayshabergahiriel\n",
      "cayshabergahiriel.\n",
      "\n",
      "k\n",
      "ki\n",
      "kin\n",
      "kin.\n",
      "\n",
      "r\n",
      "re\n",
      "ren\n",
      "rene\n",
      "renel\n",
      "reneli\n",
      "renelin\n",
      "renelinn\n",
      "renelinne\n",
      "renelinnet\n",
      "renelinneth\n",
      "renelinnetha\n",
      "renelinnethan\n",
      "renelinnethana\n",
      "renelinnethana.\n",
      "\n",
      "u\n",
      "ub\n",
      "ube\n",
      "ubel\n",
      "ubell\n",
      "ubelle\n",
      "ubelled\n",
      "ubelled.\n",
      "\n",
      "r\n",
      "ry\n",
      "ryy\n",
      "ryya\n",
      "ryyah\n",
      "ryyah.\n",
      "\n",
      "f\n",
      "fy\n",
      "fye\n",
      "fyeh\n",
      "fyehs\n",
      "fyehsy\n",
      "fyehsyn\n",
      "fyehsyn.\n",
      "\n",
      "a\n",
      "aj\n",
      "aja\n",
      "ajay\n",
      "ajays\n",
      "ajayse\n",
      "ajaysen\n",
      "ajaysen.\n",
      "\n",
      "d\n",
      "da\n",
      "dai\n",
      "daih\n",
      "daiha\n",
      "daihan\n",
      "daihan.\n",
      "\n",
      "s\n",
      "sa\n",
      "sal\n",
      "saly\n",
      "salyn\n",
      "salynn\n",
      "salynn.\n",
      "\n",
      "u\n",
      "un\n",
      "una\n",
      "una.\n",
      "\n"
     ]
    }
   ],
   "source": [
    "# sampling from the model\n",
    "# tomorrow\n",
    "g = torch.Generator().manual_seed(2147483647 + 10)\n",
    "\n",
    "for _ in range(20):\n",
    "    out = []\n",
    "    context  =  [0] * 3 #initialize with all ...\n",
    "    while True:\n",
    "        emb = c[torch.tensor([context])]  #(1,3(block size),d)\n",
    "        h = torch.tanh(emb.view(1,-1)@w1+b1)\n",
    "        logits = h @ w2 + b2\n",
    "        probs = F.softmax(logits, dim=1)\n",
    "        ix = torch.multinomial(probs, num_samples=1, generator=g).item()\n",
    "        context = context[1:] + [ix]\n",
    "        out.append(ix)\n",
    "        if ix == 0:\n",
    "            break\n",
    "        print(''.join(itos[i] for i in out))\n",
    "    print(''.join(itos[i] for i in out)+ \"\\n\")"
   ]
  },
  {
   "cell_type": "code",
   "execution_count": null,
   "metadata": {},
   "outputs": [],
   "source": []
  }
 ],
 "metadata": {
  "kernelspec": {
   "display_name": "tensorflow-env",
   "language": "python",
   "name": "python3"
  },
  "language_info": {
   "codemirror_mode": {
    "name": "ipython",
    "version": 3
   },
   "file_extension": ".py",
   "mimetype": "text/x-python",
   "name": "python",
   "nbconvert_exporter": "python",
   "pygments_lexer": "ipython3",
   "version": "3.10.10"
  },
  "orig_nbformat": 4
 },
 "nbformat": 4,
 "nbformat_minor": 2
}
