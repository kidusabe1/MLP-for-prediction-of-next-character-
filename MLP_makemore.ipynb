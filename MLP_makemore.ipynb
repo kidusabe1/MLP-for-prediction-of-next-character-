{
 "cells": [
  {
   "cell_type": "code",
   "execution_count": 1,
   "metadata": {},
   "outputs": [],
   "source": [
    "import torch\n",
    "import torch.nn.functional as F\n",
    "import matplotlib.pyplot as plt\n",
    "%matplotlib inline\n"
   ]
  },
  {
   "cell_type": "code",
   "execution_count": 2,
   "metadata": {},
   "outputs": [
    {
     "data": {
      "text/plain": [
       "['emma', 'olivia', 'ava', 'isabella', 'sophia', 'charlotte', 'mia', 'amelia']"
      ]
     },
     "execution_count": 2,
     "metadata": {},
     "output_type": "execute_result"
    }
   ],
   "source": [
    "# read in all the words\n",
    "words = open('names.txt','r').read().splitlines()\n",
    "words[:8]"
   ]
  },
  {
   "cell_type": "code",
   "execution_count": 3,
   "metadata": {},
   "outputs": [
    {
     "name": "stdout",
     "output_type": "stream",
     "text": [
      "{1: 'a', 2: 'b', 3: 'c', 4: 'd', 5: 'e', 6: 'f', 7: 'g', 8: 'h', 9: 'i', 10: 'j', 11: 'k', 12: 'l', 13: 'm', 14: 'n', 15: 'o', 16: 'p', 17: 'q', 18: 'r', 19: 's', 20: 't', 21: 'u', 22: 'v', 23: 'w', 24: 'x', 25: 'y', 26: 'z', 0: '.'}\n"
     ]
    }
   ],
   "source": [
    "# build the vocabulary of characters and mappings to/from integers\n",
    "chars = sorted(list(set(''.join(words))))\n",
    "stoi = {s:i+1 for i,s in enumerate(chars)}\n",
    "stoi['.'] = 0\n",
    "itos = {i:s for s,i in stoi.items()}\n",
    "print(itos)\n"
   ]
  },
  {
   "cell_type": "code",
   "execution_count": 4,
   "metadata": {},
   "outputs": [
    {
     "name": "stdout",
     "output_type": "stream",
     "text": [
      "torch.Size([182625, 3]) torch.Size([182625])\n",
      "torch.Size([22655, 3]) torch.Size([22655])\n",
      "torch.Size([22866, 3]) torch.Size([22866])\n"
     ]
    }
   ],
   "source": [
    "# build the dataset\n",
    "# block size is the context length: how many chars do we take to predict the next one\n",
    "def build_dataset(words):\n",
    "    block_size = 3 \n",
    "    x, y =[],[]\n",
    "    for w in words:\n",
    "        #print(w)\n",
    "        context = [0] * block_size # initializing the block with ... padding\n",
    "        for ch in w + '.': #to mark the ending of a word\n",
    "            ix = stoi[ch]\n",
    "            x.append(context) # this is where it is intially padded with dots....\n",
    "            y.append(ix) # index of the next character\n",
    "            #print(''.join(itos[i] for i in context),'---->',itos[ix])\n",
    "            context = context[1:] + [ix] #crop and append the character for next iteration(decrease the padded dots)\n",
    "        \n",
    "    x = torch.tensor(x)\n",
    "    y = torch.tensor(y)\n",
    "    print(x.shape,y.shape)\n",
    "    return x,y\n",
    "#print(x[1,:])\n",
    "#print(y[1])\n",
    "#from the above print example you can see that X is a possible context\n",
    "#before the next character which is y\n",
    "import random\n",
    "random.seed(42)\n",
    "random.shuffle(words)\n",
    "n1 = int(0.8*len(words))\n",
    "n2 = int(0.9*len(words))\n",
    "\n",
    "xtr, ytr = build_dataset(words[:n1])\n",
    "xdev, ydev = build_dataset(words[n1:n2])\n",
    "xte, yte = build_dataset(words[n2:])"
   ]
  },
  {
   "cell_type": "code",
   "execution_count": 5,
   "metadata": {},
   "outputs": [],
   "source": [
    "g = torch.Generator().manual_seed(2147483647)\n",
    "c = torch.rand((27,10),generator=g)\n",
    "# hidden layer\n",
    "w1 = torch.randn((30,400),generator=g)\n",
    "b1 = torch.randn(400,generator=g)\n",
    "# final layer\n",
    "w2 = torch.randn((400,27),generator=g)\n",
    "b2 = torch.randn(27,generator=g)\n",
    "parameters = [c, w1, b1, w2, b2]"
   ]
  },
  {
   "cell_type": "code",
   "execution_count": 6,
   "metadata": {},
   "outputs": [
    {
     "data": {
      "text/plain": [
       "23497"
      ]
     },
     "execution_count": 6,
     "metadata": {},
     "output_type": "execute_result"
    }
   ],
   "source": [
    "sum(p.nelement() for p in parameters)  # number of parameters in total"
   ]
  },
  {
   "cell_type": "code",
   "execution_count": 7,
   "metadata": {},
   "outputs": [],
   "source": [
    "for p in parameters:\n",
    "    p.requires_grad =  True"
   ]
  },
  {
   "cell_type": "code",
   "execution_count": 8,
   "metadata": {},
   "outputs": [],
   "source": [
    "lre = torch.linspace(-3,0,1000)\n",
    "lrs = 10**lre\n",
    "lossi = []\n",
    "lri = []\n",
    "stepi = []"
   ]
  },
  {
   "cell_type": "code",
   "execution_count": 9,
   "metadata": {},
   "outputs": [
    {
     "name": "stdout",
     "output_type": "stream",
     "text": [
      "1.978005051612854\n"
     ]
    }
   ],
   "source": [
    "######### Forward pass #########\n",
    "# view() is used to reshape (32,3,2) in to (32,6) for matrix multiplication purpose\n",
    "for i in range(250000):\n",
    "    # implementing mini batches so that we dont take much time \n",
    "    # forwarding and backwarding on the whole dataset at once\n",
    "    # mini batch construct\n",
    "    ix = torch.randint(0, xtr.shape[0],(64,))\n",
    "    \n",
    "    \n",
    "    emb = c[xtr[ix]]  #(32,3,2)\n",
    "    h =torch.tanh(emb.view(emb.shape[0],30) @ w1 + b1)\n",
    "    logits = h @ w2 + b2  # (32,27)\n",
    "    # counts = logits.exp()\n",
    "    # prob = counts / counts.sum(1, keepdims=True)\n",
    "    # loss = -prob[torch.arange(228146),y].log().mean()\n",
    "    batch_loss= F.cross_entropy(logits, ytr[ix])\n",
    "    #So, in summary, you can interpret the .log() \n",
    "    # computation as undoing the exponential \n",
    "    # transformation performed earlier, allowing for\n",
    "    #  a linear scale representation of the probabilities\n",
    "    #  and facilitating the calculation of the \n",
    "    # cross-entropy loss.\n",
    "\n",
    "\n",
    "    ####### backward pass #########\n",
    "    for p in parameters:\n",
    "        p.grad = None\n",
    "    batch_loss.backward()\n",
    "\n",
    "    ######## update       ##########\n",
    "    lr = 0.1 if i<150000 else 0.001\n",
    "    for p in parameters:\n",
    "        p.data += -lr * p.grad\n",
    "    # track status of learning rate\n",
    "    #lri.append(lrs[i])\n",
    "    lossi.append(batch_loss.log10().item())\n",
    "    stepi.append(i)\n",
    "print(batch_loss.item()) # for last batch computed lost"
   ]
  },
  {
   "cell_type": "code",
   "execution_count": 10,
   "metadata": {},
   "outputs": [
    {
     "data": {
      "text/plain": [
       "[<matplotlib.lines.Line2D at 0x20789048c70>]"
      ]
     },
     "execution_count": 10,
     "metadata": {},
     "output_type": "execute_result"
    },
    {
     "data": {
      "image/png": "[encoded data removed]",
      "text/plain": [
       "<Figure size 640x480 with 1 Axes>"
      ]
     },
     "metadata": {},
     "output_type": "display_data"
    }
   ],
   "source": [
    "plt.plot(stepi,lossi)"
   ]
  },
  {
   "cell_type": "code",
   "execution_count": 11,
   "metadata": {},
   "outputs": [
    {
     "ename": "ValueError",
     "evalue": "x and y must have same first dimension, but have shapes (0,) and (250000,)",
     "output_type": "error",
     "traceback": [
      "\u001b[1;31m---------------------------------------------------------------------------\u001b[0m",
      "\u001b[1;31mValueError\u001b[0m                                Traceback (most recent call last)",
      "\u001b[1;32mc:\\Users\\KIIT\\Desktop\\Programming\\andrej_karparthy_MLP_model_makemore\\MLP_makemore.ipynb Cell 11\u001b[0m in \u001b[0;36m1\n\u001b[1;32m----> <a href='vscode-notebook-cell:/c%3A/Users/KIIT/Desktop/Programming/andrej_karparthy_MLP_model_makemore/MLP_makemore.ipynb#X13sZmlsZQ%3D%3D?line=0'>1</a>\u001b[0m plt\u001b[39m.\u001b[39mplot(lri,lossi)\n",
      "File \u001b[1;32m~\\AppData\\Roaming\\Python\\Python310\\site-packages\\matplotlib\\pyplot.py:2812\u001b[0m, in \u001b[0;36mplot\u001b[1;34m(scalex, scaley, data, *args, **kwargs)\u001b[0m\n\u001b[0;32m   2810\u001b[0m \u001b[39m@_copy_docstring_and_deprecators\u001b[39m(Axes\u001b[39m.\u001b[39mplot)\n\u001b[0;32m   2811\u001b[0m \u001b[39mdef\u001b[39;00m \u001b[39mplot\u001b[39m(\u001b[39m*\u001b[39margs, scalex\u001b[39m=\u001b[39m\u001b[39mTrue\u001b[39;00m, scaley\u001b[39m=\u001b[39m\u001b[39mTrue\u001b[39;00m, data\u001b[39m=\u001b[39m\u001b[39mNone\u001b[39;00m, \u001b[39m*\u001b[39m\u001b[39m*\u001b[39mkwargs):\n\u001b[1;32m-> 2812\u001b[0m     \u001b[39mreturn\u001b[39;00m gca()\u001b[39m.\u001b[39mplot(\n\u001b[0;32m   2813\u001b[0m         \u001b[39m*\u001b[39margs, scalex\u001b[39m=\u001b[39mscalex, scaley\u001b[39m=\u001b[39mscaley,\n\u001b[0;32m   2814\u001b[0m         \u001b[39m*\u001b[39m\u001b[39m*\u001b[39m({\u001b[39m\"\u001b[39m\u001b[39mdata\u001b[39m\u001b[39m\"\u001b[39m: data} \u001b[39mif\u001b[39;00m data \u001b[39mis\u001b[39;00m \u001b[39mnot\u001b[39;00m \u001b[39mNone\u001b[39;00m \u001b[39melse\u001b[39;00m {}), \u001b[39m*\u001b[39m\u001b[39m*\u001b[39mkwargs)\n",
      "File \u001b[1;32m~\\AppData\\Roaming\\Python\\Python310\\site-packages\\matplotlib\\axes\\_axes.py:1688\u001b[0m, in \u001b[0;36mAxes.plot\u001b[1;34m(self, scalex, scaley, data, *args, **kwargs)\u001b[0m\n\u001b[0;32m   1445\u001b[0m \u001b[39m\"\"\"\u001b[39;00m\n\u001b[0;32m   1446\u001b[0m \u001b[39mPlot y versus x as lines and/or markers.\u001b[39;00m\n\u001b[0;32m   1447\u001b[0m \n\u001b[1;32m   (...)\u001b[0m\n\u001b[0;32m   1685\u001b[0m \u001b[39m(``'green'``) or hex strings (``'#008000'``).\u001b[39;00m\n\u001b[0;32m   1686\u001b[0m \u001b[39m\"\"\"\u001b[39;00m\n\u001b[0;32m   1687\u001b[0m kwargs \u001b[39m=\u001b[39m cbook\u001b[39m.\u001b[39mnormalize_kwargs(kwargs, mlines\u001b[39m.\u001b[39mLine2D)\n\u001b[1;32m-> 1688\u001b[0m lines \u001b[39m=\u001b[39m [\u001b[39m*\u001b[39m\u001b[39mself\u001b[39m\u001b[39m.\u001b[39m_get_lines(\u001b[39m*\u001b[39margs, data\u001b[39m=\u001b[39mdata, \u001b[39m*\u001b[39m\u001b[39m*\u001b[39mkwargs)]\n\u001b[0;32m   1689\u001b[0m \u001b[39mfor\u001b[39;00m line \u001b[39min\u001b[39;00m lines:\n\u001b[0;32m   1690\u001b[0m     \u001b[39mself\u001b[39m\u001b[39m.\u001b[39madd_line(line)\n",
      "File \u001b[1;32m~\\AppData\\Roaming\\Python\\Python310\\site-packages\\matplotlib\\axes\\_base.py:311\u001b[0m, in \u001b[0;36m_process_plot_var_args.__call__\u001b[1;34m(self, data, *args, **kwargs)\u001b[0m\n\u001b[0;32m    309\u001b[0m     this \u001b[39m+\u001b[39m\u001b[39m=\u001b[39m args[\u001b[39m0\u001b[39m],\n\u001b[0;32m    310\u001b[0m     args \u001b[39m=\u001b[39m args[\u001b[39m1\u001b[39m:]\n\u001b[1;32m--> 311\u001b[0m \u001b[39myield from\u001b[39;00m \u001b[39mself\u001b[39;49m\u001b[39m.\u001b[39;49m_plot_args(\n\u001b[0;32m    312\u001b[0m     this, kwargs, ambiguous_fmt_datakey\u001b[39m=\u001b[39;49mambiguous_fmt_datakey)\n",
      "File \u001b[1;32m~\\AppData\\Roaming\\Python\\Python310\\site-packages\\matplotlib\\axes\\_base.py:504\u001b[0m, in \u001b[0;36m_process_plot_var_args._plot_args\u001b[1;34m(self, tup, kwargs, return_kwargs, ambiguous_fmt_datakey)\u001b[0m\n\u001b[0;32m    501\u001b[0m     \u001b[39mself\u001b[39m\u001b[39m.\u001b[39maxes\u001b[39m.\u001b[39myaxis\u001b[39m.\u001b[39mupdate_units(y)\n\u001b[0;32m    503\u001b[0m \u001b[39mif\u001b[39;00m x\u001b[39m.\u001b[39mshape[\u001b[39m0\u001b[39m] \u001b[39m!=\u001b[39m y\u001b[39m.\u001b[39mshape[\u001b[39m0\u001b[39m]:\n\u001b[1;32m--> 504\u001b[0m     \u001b[39mraise\u001b[39;00m \u001b[39mValueError\u001b[39;00m(\u001b[39mf\u001b[39m\u001b[39m\"\u001b[39m\u001b[39mx and y must have same first dimension, but \u001b[39m\u001b[39m\"\u001b[39m\n\u001b[0;32m    505\u001b[0m                      \u001b[39mf\u001b[39m\u001b[39m\"\u001b[39m\u001b[39mhave shapes \u001b[39m\u001b[39m{\u001b[39;00mx\u001b[39m.\u001b[39mshape\u001b[39m}\u001b[39;00m\u001b[39m and \u001b[39m\u001b[39m{\u001b[39;00my\u001b[39m.\u001b[39mshape\u001b[39m}\u001b[39;00m\u001b[39m\"\u001b[39m)\n\u001b[0;32m    506\u001b[0m \u001b[39mif\u001b[39;00m x\u001b[39m.\u001b[39mndim \u001b[39m>\u001b[39m \u001b[39m2\u001b[39m \u001b[39mor\u001b[39;00m y\u001b[39m.\u001b[39mndim \u001b[39m>\u001b[39m \u001b[39m2\u001b[39m:\n\u001b[0;32m    507\u001b[0m     \u001b[39mraise\u001b[39;00m \u001b[39mValueError\u001b[39;00m(\u001b[39mf\u001b[39m\u001b[39m\"\u001b[39m\u001b[39mx and y can be no greater than 2D, but have \u001b[39m\u001b[39m\"\u001b[39m\n\u001b[0;32m    508\u001b[0m                      \u001b[39mf\u001b[39m\u001b[39m\"\u001b[39m\u001b[39mshapes \u001b[39m\u001b[39m{\u001b[39;00mx\u001b[39m.\u001b[39mshape\u001b[39m}\u001b[39;00m\u001b[39m and \u001b[39m\u001b[39m{\u001b[39;00my\u001b[39m.\u001b[39mshape\u001b[39m}\u001b[39;00m\u001b[39m\"\u001b[39m)\n",
      "\u001b[1;31mValueError\u001b[0m: x and y must have same first dimension, but have shapes (0,) and (250000,)"
     ]
    },
    {
     "data": {
      "image/png": "[encoded data removed]",
      "text/plain": [
       "<Figure size 640x480 with 1 Axes>"
      ]
     },
     "metadata": {},
     "output_type": "display_data"
    }
   ],
   "source": [
    "plt.plot(lri,lossi)"
   ]
  },
  {
   "cell_type": "code",
   "execution_count": 12,
   "metadata": {},
   "outputs": [
    {
     "data": {
      "text/plain": [
       "2.115145683288574"
      ]
     },
     "execution_count": 12,
     "metadata": {},
     "output_type": "execute_result"
    }
   ],
   "source": [
    "# general loss evaluation using test split data\n",
    "emb = c[xtr]  #(32,3,2)\n",
    "h =torch.tanh(emb.view(emb.shape[0],30) @ w1 + b1)\n",
    "logits = h @ w2 + b2  # (32,27)\n",
    "loss= F.cross_entropy(logits, ytr)\n",
    "loss.item()"
   ]
  },
  {
   "cell_type": "code",
   "execution_count": 13,
   "metadata": {},
   "outputs": [
    {
     "data": {
      "text/plain": [
       "2.1564793586730957"
      ]
     },
     "execution_count": 13,
     "metadata": {},
     "output_type": "execute_result"
    }
   ],
   "source": [
    "# general loss evaluation using the validation split data\n",
    "emb = c[xdev]  #(32,3,2)\n",
    "h =torch.tanh(emb.view(emb.shape[0],30) @ w1 + b1)\n",
    "logits = h @ w2 + b2  # (32,27)\n",
    "loss= F.cross_entropy(logits, ydev)\n",
    "loss.item()"
   ]
  },
  {
   "cell_type": "code",
   "execution_count": null,
   "metadata": {},
   "outputs": [],
   "source": [
    "# training split/ dev or validation split/ test split\n",
    "# 80%, 10%, 10%\n",
    "# training data is used to train the parameters\n",
    "# validation split is used to train the hyperparameters\n",
    "#    hyperparameters are like size of the embeddings, lr, number of neurons\n",
    "# test split is used to test the model"
   ]
  },
  {
   "cell_type": "code",
   "execution_count": 14,
   "metadata": {},
   "outputs": [
    {
     "data": {
      "image/png": "[encoded data removed]",
      "text/plain": [
       "<Figure size 800x800 with 1 Axes>"
      ]
     },
     "metadata": {},
     "output_type": "display_data"
    }
   ],
   "source": [
    "# visualizing the character embedding size\n",
    "plt.figure(figsize=(8,8))\n",
    "plt.scatter(c[:,0].data, c[:,1].data, s = 200)\n",
    "for i in range(c.shape[0]):\n",
    "    plt.text(c[i,0].item(), c[i,1].item(), itos[i], ha='center', va='center',color='white')\n",
    "plt.grid('minor')"
   ]
  },
  {
   "cell_type": "code",
   "execution_count": 17,
   "metadata": {},
   "outputs": [
    {
     "name": "stdout",
     "output_type": "stream",
     "text": [
      "m\n",
      "mo\n",
      "mor\n",
      "mora\n",
      "mora.\n",
      "\n",
      "k\n",
      "ka\n",
      "kay\n",
      "kaya\n",
      "kayan\n",
      "kayann\n",
      "kayanna\n",
      "kayanna.\n",
      "\n",
      "e\n",
      "el\n",
      "elm\n",
      "elma\n",
      "elmad\n",
      "elmad.\n",
      "\n",
      "r\n",
      "ry\n",
      "ryl\n",
      "ryll\n",
      "rylla\n",
      "rylla.\n",
      "\n",
      "e\n",
      "em\n",
      "emm\n",
      "emma\n",
      "emman\n",
      "emmani\n",
      "emmanie\n",
      "emmanie.\n",
      "\n",
      "d\n",
      "dr\n",
      "dra\n",
      "dra.\n",
      "\n",
      "g\n",
      "gr\n",
      "gra\n",
      "grad\n",
      "grade\n",
      "gradee\n",
      "gradeer\n",
      "gradeer.\n",
      "\n",
      "m\n",
      "me\n",
      "mel\n",
      "meli\n",
      "melin\n",
      "melin.\n",
      "\n",
      "s\n",
      "sh\n",
      "shi\n",
      "shi.\n",
      "\n",
      "j\n",
      "je\n",
      "jen\n",
      "jen.\n",
      "\n",
      "e\n",
      "ed\n",
      "ede\n",
      "edel\n",
      "edeli\n",
      "edelis\n",
      "edeliss\n",
      "edelisso\n",
      "edelisson\n",
      "edelisson.\n",
      "\n",
      "a\n",
      "ar\n",
      "arl\n",
      "arle\n",
      "arlei\n",
      "arleit\n",
      "arleitz\n",
      "arleitzi\n",
      "arleitzim\n",
      "arleitzimo\n",
      "arleitzimon\n",
      "arleitzimont\n",
      "arleitzimonta\n",
      "arleitzimontal\n",
      "arleitzimontali\n",
      "arleitzimontalin\n",
      "arleitzimontalin.\n",
      "\n",
      "s\n",
      "sh\n",
      "shu\n",
      "shub\n",
      "shube\n",
      "shuber\n",
      "shuberg\n",
      "shubergi\n",
      "shubergih\n",
      "shubergiha\n",
      "shubergiham\n",
      "shubergihami\n",
      "shubergihamie\n",
      "shubergihamiel\n",
      "shubergihamiel.\n",
      "\n",
      "k\n",
      "ki\n",
      "kin\n",
      "kind\n",
      "kindr\n",
      "kindre\n",
      "kindree\n",
      "kindreel\n",
      "kindreely\n",
      "kindreelyn\n",
      "kindreelynn\n",
      "kindreelynn.\n",
      "\n",
      "n\n",
      "no\n",
      "nop\n",
      "noph\n",
      "nophi\n",
      "nophir\n",
      "nophir.\n",
      "\n",
      "u\n",
      "ur\n",
      "uri\n",
      "uri.\n",
      "\n",
      "g\n",
      "ge\n",
      "ged\n",
      "gede\n",
      "geder\n",
      "geder.\n",
      "\n",
      "y\n",
      "ya\n",
      "yar\n",
      "yaru\n",
      "yarul\n",
      "yarulz\n",
      "yarulze\n",
      "yarulzeh\n",
      "yarulzeh.\n",
      "\n",
      "y\n",
      "yu\n",
      "yum\n",
      "yumi\n",
      "yumi.\n",
      "\n",
      "m\n",
      "my\n",
      "mys\n",
      "mys.\n",
      "\n"
     ]
    }
   ],
   "source": [
    "# sampling from the model\n",
    "# tomorrow\n",
    "g = torch.Generator().manual_seed(2147483647 + 10)\n",
    "\n",
    "for _ in range(20):\n",
    "    out = []\n",
    "    context  =  [0] * 3 #initialize with all ...\n",
    "    while True:\n",
    "        emb = c[torch.tensor([context])]  #(1,3(block size),d)\n",
    "        h = torch.tanh(emb.view(1,-1)@w1+b1)\n",
    "        logits = h @ w2 + b2\n",
    "        probs = F.softmax(logits, dim=1)\n",
    "        ix = torch.multinomial(probs, num_samples=1, generator=g).item()\n",
    "        context = context[1:] + [ix]\n",
    "        out.append(ix)\n",
    "        if ix == 0:\n",
    "            break\n",
    "        print(''.join(itos[i] for i in out))\n",
    "    print(''.join(itos[i] for i in out)+ \"\\n\")"
   ]
  },
  {
   "cell_type": "code",
   "execution_count": null,
   "metadata": {},
   "outputs": [],
   "source": []
  }
 ],
 "metadata": {
  "kernelspec": {
   "display_name": "tensorflow-env",
   "language": "python",
   "name": "python3"
  },
  "language_info": {
   "codemirror_mode": {
    "name": "ipython",
    "version": 3
   },
   "file_extension": ".py",
   "mimetype": "text/x-python",
   "name": "python",
   "nbconvert_exporter": "python",
   "pygments_lexer": "ipython3",
   "version": "3.10.10"
  },
  "orig_nbformat": 4
 },
 "nbformat": 4,
 "nbformat_minor": 2
}
